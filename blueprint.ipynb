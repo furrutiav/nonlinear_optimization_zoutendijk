{
 "cells": [
  {
   "cell_type": "markdown",
   "id": "a5b25f3e",
   "metadata": {},
   "source": [
    "# MA5701 Optimización no lineal: Tarea 2\n",
    "**Fecha de entrega:** 4 de Julio a las 23:59 hrs.\n",
    "\n",
    "**Profesor:** Jorge G. Amaya A. \n",
    "\n",
    "**Auxiliar:** Aldo Gutiérrez Concha. \n",
    "\n",
    "**Ayudantes:** Carolina Chiu y Mariano Vazquez.\n",
    "\n",
    "**Autor:** Felipe Urrutia Vargas"
   ]
  },
  {
   "cell_type": "code",
   "execution_count": 2,
   "id": "208202f0",
   "metadata": {},
   "outputs": [
    {
     "name": "stdout",
     "output_type": "stream",
     "text": [
      "Requirement already satisfied: numdifftools in c:\\users\\felip\\anaconda3\\lib\\site-packages (0.9.40)\n",
      "Requirement already satisfied: scipy>=0.8 in c:\\users\\felip\\anaconda3\\lib\\site-packages (from numdifftools) (1.7.3)\n",
      "Requirement already satisfied: algopy>=0.4 in c:\\users\\felip\\anaconda3\\lib\\site-packages (from numdifftools) (0.5.7)\n",
      "Requirement already satisfied: statsmodels>=0.6 in c:\\users\\felip\\anaconda3\\lib\\site-packages (from numdifftools) (0.13.0)\n",
      "Requirement already satisfied: numpy>=1.9 in c:\\users\\felip\\anaconda3\\lib\\site-packages (from numdifftools) (1.21.5)\n",
      "Requirement already satisfied: pandas>=0.25 in c:\\users\\felip\\anaconda3\\lib\\site-packages (from statsmodels>=0.6->numdifftools) (1.4.1)\n",
      "Requirement already satisfied: patsy>=0.5.2 in c:\\users\\felip\\anaconda3\\lib\\site-packages (from statsmodels>=0.6->numdifftools) (0.5.2)\n",
      "Requirement already satisfied: pytz>=2020.1 in c:\\users\\felip\\anaconda3\\lib\\site-packages (from pandas>=0.25->statsmodels>=0.6->numdifftools) (2021.3)\n",
      "Requirement already satisfied: python-dateutil>=2.8.1 in c:\\users\\felip\\anaconda3\\lib\\site-packages (from pandas>=0.25->statsmodels>=0.6->numdifftools) (2.8.2)\n",
      "Requirement already satisfied: six in c:\\users\\felip\\anaconda3\\lib\\site-packages (from patsy>=0.5.2->statsmodels>=0.6->numdifftools) (1.16.0)\n"
     ]
    },
    {
     "name": "stderr",
     "output_type": "stream",
     "text": [
      "WARNING: Error parsing requirements for torch: [Errno 2] No such file or directory: 'c:\\\\users\\\\felip\\\\anaconda3\\\\lib\\\\site-packages\\\\torch-1.11.0.dist-info\\\\METADATA'\n"
     ]
    }
   ],
   "source": [
    "!pip install numdifftools"
   ]
  },
  {
   "cell_type": "code",
   "execution_count": 3,
   "id": "c6ec203d",
   "metadata": {},
   "outputs": [],
   "source": [
    "import numpy as np\n",
    "import numdifftools as nd"
   ]
  },
  {
   "cell_type": "code",
   "execution_count": 4,
   "id": "529317cb",
   "metadata": {},
   "outputs": [],
   "source": [
    "def f1(x):\n",
    "    return 8 * ((x[0] - 6)**2) + (x[1] - 2)**4"
   ]
  },
  {
   "cell_type": "code",
   "execution_count": 7,
   "id": "e30b3287",
   "metadata": {},
   "outputs": [
    {
     "name": "stdout",
     "output_type": "stream",
     "text": [
      "[-96.   0.]\n"
     ]
    }
   ],
   "source": [
    "grad = nd.Gradient(f1)\n",
    "print(grad([0, 2]))"
   ]
  },
  {
   "cell_type": "code",
   "execution_count": 52,
   "id": "5b4190b8",
   "metadata": {},
   "outputs": [],
   "source": [
    "A = np.array([\n",
    "    [-1, 2],\n",
    "    [3, 2],\n",
    "    [-1, 0],\n",
    "    [0, -1]\n",
    "])\n",
    "b = np.array([4, 12, 0, 0])\n",
    "\n",
    "E = np.array([])\n",
    "e = np.array([])"
   ]
  },
  {
   "cell_type": "markdown",
   "id": "0d79e96b",
   "metadata": {},
   "source": [
    "## I. Escriba un código computacional que haga operacional el método de direcciones admisibles (Zoutendijk)\n",
    "\n",
    "Resolver el problema de optimización no lineal:\n",
    "$$(P) \\quad \\begin{cases} \\min &f (x) \\\\\n",
    "s.a. &Ax \\leq b \\\\\n",
    "&Ex = e\n",
    "\\end{cases}$$"
   ]
  },
  {
   "cell_type": "markdown",
   "id": "ce4bd13a",
   "metadata": {},
   "source": [
    "### Pseudo-algoritmo"
   ]
  },
  {
   "cell_type": "markdown",
   "id": "572ea3a6",
   "metadata": {},
   "source": [
    "(0) Sean $\\epsilon>0$, $k = 0$, $x_0 \\in \\mathbb{R}^n$ tal que $Ax_0 \\leq  b$, $Ex_0=e$ "
   ]
  },
  {
   "cell_type": "code",
   "execution_count": 53,
   "id": "555b6848",
   "metadata": {},
   "outputs": [
    {
     "name": "stdout",
     "output_type": "stream",
     "text": [
      "(0, k=0) Factible: True\n"
     ]
    }
   ],
   "source": [
    "eps= 1e-2\n",
    "x0 = [0, 2]\n",
    "k = 0\n",
    "xk = x0\n",
    "# check factibilidad\n",
    "feasible = np.all(A@xk <= b)\n",
    "print(f\"(0, k={k}) Factible: {feasible}\")"
   ]
  },
  {
   "cell_type": "markdown",
   "id": "f980b1ea",
   "metadata": {},
   "source": [
    "(1) Sea la descomposición $A = [A_1,A_2]^T, b =(b_1, b_2)^T$ tal que $A_1x_k = b_1, A_2x_k < b_2$."
   ]
  },
  {
   "cell_type": "code",
   "execution_count": 54,
   "id": "c1bf954d",
   "metadata": {},
   "outputs": [
    {
     "name": "stdout",
     "output_type": "stream",
     "text": [
      "A1:\n",
      "[[-1  2]\n",
      " [-1  0]],\n",
      "b1:[4 0]\n",
      "A2:\n",
      "[[ 3  2]\n",
      " [ 0 -1]],\n",
      "b1:[12  0]\n"
     ]
    }
   ],
   "source": [
    "# Step 1\n",
    "index_A1 = np.isclose(A@xk, b)\n",
    "index_A2 = ~index_A1\n",
    "\n",
    "A1 = A[index_A1]\n",
    "A2 = A[index_A2]\n",
    "\n",
    "b1 = b[index_A1]\n",
    "b2 = b[index_A2]\n",
    "\n",
    "print(f\"A1:\\n{A1},\\nb1:{b1}\")\n",
    "print(f\"A2:\\n{A2},\\nb1:{b2}\")"
   ]
  },
  {
   "cell_type": "markdown",
   "id": "6877ff89",
   "metadata": {},
   "source": [
    "(2) Resolver el problema lineal\n",
    "\n",
    "$$(D_k) \\quad \\begin{cases} \\min &\\nabla f (x_k)^T d\\\\\n",
    "s.a. &A_1d \\leq 0 \\\\\n",
    "&Ed = 0\\\\\n",
    "&−1 \\leq d_j \\leq 1, \\quad j = 1, . . . , n\n",
    "\\end{cases}$$\n",
    "y sea $d_k$ solución de $(D_k)$.\n",
    "\n",
    "Si $|| \\nabla f (x_k)^T d_k || < \\epsilon$, entonces parar.\n",
    "\n",
    "Si no, ir a (3)."
   ]
  },
  {
   "cell_type": "code",
   "execution_count": 43,
   "id": "06746db0",
   "metadata": {},
   "outputs": [],
   "source": [
    "from scipy.optimize import linprog"
   ]
  },
  {
   "cell_type": "code",
   "execution_count": 72,
   "id": "5d305540",
   "metadata": {},
   "outputs": [
    {
     "name": "stdout",
     "output_type": "stream",
     "text": [
      "∇𝑓(𝑥𝑘): [-96.   0.]\n",
      "dk: [1.  0.5]\n"
     ]
    }
   ],
   "source": [
    "# Step 2\n",
    "\n",
    "obj = grad([0, 2])\n",
    "print(f\"∇𝑓(𝑥𝑘): {obj}\")\n",
    "\n",
    "lhs_ineq = A1\n",
    "\n",
    "rhs_ineq = np.zeros(A1.shape[0])\n",
    "\n",
    "lhs_eq = E if len(E) != 0 else None\n",
    "rhs_eq = np.zeros(E.shape[0]) if len(E) != 0 else None\n",
    "\n",
    "bnd = [(-1, 1) for _ in range(obj.shape[0])] \n",
    "\n",
    "opt = linprog(c=obj, A_ub=lhs_ineq, b_ub=rhs_ineq,\n",
    "              A_eq=lhs_eq, b_eq=rhs_eq, bounds=bnd,\n",
    "              method=\"simplex\")\n",
    "dk = opt.x\n",
    "print(f\"dk: {dk}\")"
   ]
  },
  {
   "cell_type": "code",
   "execution_count": null,
   "id": "026a4189",
   "metadata": {},
   "outputs": [],
   "source": []
  }
 ],
 "metadata": {
  "kernelspec": {
   "display_name": "Python 3 (ipykernel)",
   "language": "python",
   "name": "python3"
  },
  "language_info": {
   "codemirror_mode": {
    "name": "ipython",
    "version": 3
   },
   "file_extension": ".py",
   "mimetype": "text/x-python",
   "name": "python",
   "nbconvert_exporter": "python",
   "pygments_lexer": "ipython3",
   "version": "3.8.5"
  }
 },
 "nbformat": 4,
 "nbformat_minor": 5
}
