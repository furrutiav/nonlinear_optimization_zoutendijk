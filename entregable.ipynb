{
 "cells": [
  {
   "cell_type": "markdown",
   "id": "a9511cd7",
   "metadata": {},
   "source": [
    "# MA5701 Optimización no lineal: Tarea 3\n",
    "**Fecha de entrega:** 4 de Julio a las 23:59 hrs.\n",
    "\n",
    "**Profesor:** Jorge G. Amaya A. \n",
    "\n",
    "**Auxiliar:** Aldo Gutiérrez Concha. \n",
    "\n",
    "**Ayudantes:** Carolina Chiu y Mariano Vazquez.\n",
    "\n",
    "**Autor:** Felipe Urrutia Vargas"
   ]
  },
  {
   "cell_type": "code",
   "execution_count": 20,
   "id": "0e2b1b7b",
   "metadata": {},
   "outputs": [
    {
     "name": "stdout",
     "output_type": "stream",
     "text": [
      "Requirement already satisfied: numdifftools in c:\\users\\felip\\anaconda3\\lib\\site-packages (0.9.40)\n",
      "Requirement already satisfied: statsmodels>=0.6 in c:\\users\\felip\\anaconda3\\lib\\site-packages (from numdifftools) (0.13.0)\n",
      "Requirement already satisfied: algopy>=0.4 in c:\\users\\felip\\anaconda3\\lib\\site-packages (from numdifftools) (0.5.7)\n",
      "Requirement already satisfied: numpy>=1.9 in c:\\users\\felip\\anaconda3\\lib\\site-packages (from numdifftools) (1.21.5)\n",
      "Requirement already satisfied: scipy>=0.8 in c:\\users\\felip\\anaconda3\\lib\\site-packages (from numdifftools) (1.7.3)\n",
      "Requirement already satisfied: pandas>=0.25 in c:\\users\\felip\\anaconda3\\lib\\site-packages (from statsmodels>=0.6->numdifftools) (1.4.1)\n",
      "Requirement already satisfied: patsy>=0.5.2 in c:\\users\\felip\\anaconda3\\lib\\site-packages (from statsmodels>=0.6->numdifftools) (0.5.2)\n",
      "Requirement already satisfied: pytz>=2020.1 in c:\\users\\felip\\anaconda3\\lib\\site-packages (from pandas>=0.25->statsmodels>=0.6->numdifftools) (2021.3)\n",
      "Requirement already satisfied: python-dateutil>=2.8.1 in c:\\users\\felip\\anaconda3\\lib\\site-packages (from pandas>=0.25->statsmodels>=0.6->numdifftools) (2.8.2)\n",
      "Requirement already satisfied: six in c:\\users\\felip\\anaconda3\\lib\\site-packages (from patsy>=0.5.2->statsmodels>=0.6->numdifftools) (1.16.0)\n"
     ]
    },
    {
     "name": "stderr",
     "output_type": "stream",
     "text": [
      "WARNING: Error parsing requirements for torch: [Errno 2] No such file or directory: 'c:\\\\users\\\\felip\\\\anaconda3\\\\lib\\\\site-packages\\\\torch-1.11.0.dist-info\\\\METADATA'\n"
     ]
    }
   ],
   "source": [
    "from scipy.optimize import linprog\n",
    "import numpy as np\n",
    "!pip install numdifftools\n",
    "import numdifftools as nd\n",
    "import re"
   ]
  },
  {
   "cell_type": "markdown",
   "id": "3850fad1",
   "metadata": {},
   "source": [
    "#  Método de direcciones admisibles (Zoutendijk)"
   ]
  },
  {
   "cell_type": "markdown",
   "id": "d94f850d",
   "metadata": {},
   "source": [
    "Resolver el problema de optimización no lineal:\n",
    "$$(P) \\quad \\begin{cases} \\min &f (x) \\\\\n",
    "s.a. &Ax \\leq b \\\\\n",
    "&Ex = e\n",
    "\\end{cases}$$"
   ]
  },
  {
   "cell_type": "markdown",
   "id": "49266ae3",
   "metadata": {},
   "source": [
    "## Paso 0"
   ]
  },
  {
   "cell_type": "code",
   "execution_count": 213,
   "id": "5a6581a5",
   "metadata": {},
   "outputs": [],
   "source": [
    "def step0(xk, A, b, E=None, e=None):\n",
    "    # Step 0: Check factibilidad\n",
    "    feasible = np.all(A@xk <= b)\n",
    "    if str(E) != \"None\":\n",
    "        feasible = feasible and np.all(np.isclose(E@xk, e))\n",
    "    return feasible"
   ]
  },
  {
   "cell_type": "markdown",
   "id": "e0f49076",
   "metadata": {},
   "source": [
    "## Paso 1"
   ]
  },
  {
   "cell_type": "code",
   "execution_count": 5,
   "id": "c19c6557",
   "metadata": {},
   "outputs": [],
   "source": [
    "def step1(xk, A, b):\n",
    "    # Step 1\n",
    "    index_A1 = np.isclose(A@xk, b)\n",
    "    index_A2 = ~index_A1\n",
    "\n",
    "    A1 = A[index_A1]\n",
    "    A2 = A[index_A2]\n",
    "\n",
    "    b1 = b[index_A1]\n",
    "    b2 = b[index_A2]\n",
    "    \n",
    "    return A1, A2, b1, b2"
   ]
  },
  {
   "cell_type": "markdown",
   "id": "cf294d9f",
   "metadata": {},
   "source": [
    "## Paso 2"
   ]
  },
  {
   "cell_type": "code",
   "execution_count": 6,
   "id": "69830e6b",
   "metadata": {},
   "outputs": [],
   "source": [
    "def step2(obj, A1, E, eps):\n",
    "    # Step 2\n",
    "    lhs_ineq = A1\n",
    "    rhs_ineq = np.zeros(A1.shape[0]) if str(A1) != \"None\" else None\n",
    "\n",
    "    lhs_eq = E\n",
    "    rhs_eq = np.zeros(E.shape[0]) if str(E) != \"None\" else None\n",
    "\n",
    "    bnd = [(-1, 1) for _ in range(obj.shape[0])] \n",
    "\n",
    "    opt = linprog(c=obj, A_ub=lhs_ineq, b_ub=rhs_ineq,\n",
    "                  A_eq=lhs_eq, b_eq=rhs_eq, bounds=bnd,\n",
    "                  method=\"simplex\")\n",
    "    dk = opt.x\n",
    "    stop = abs(np.dot(obj, dk))<eps\n",
    "    return dk, stop"
   ]
  },
  {
   "cell_type": "markdown",
   "id": "cee4fb2b",
   "metadata": {},
   "source": [
    "## Paso 3"
   ]
  },
  {
   "cell_type": "code",
   "execution_count": 179,
   "id": "8d6b7424",
   "metadata": {},
   "outputs": [],
   "source": [
    "def step3(f, xk, dk, A2, b2, eps, N=10*6, sgm=0.5):\n",
    "    # Step 3\n",
    "    # lambda maximo\n",
    "    dom = A2@dk>0\n",
    "    bar_lmbdk = np.min(((b2-A2@xk)/(A2@dk))[dom]) if len(dom) != 0 else float(\"inf\")\n",
    "\n",
    "    # paso de armijo\n",
    "    t = np.linspace(0, bar_lmbdk, N)\n",
    "    h = 1/(N-1)\n",
    "\n",
    "    d_phi_0 = nd.Gradient(lambda t: f( xk + dk*t ))([0])\n",
    "\n",
    "    dom = np.where(f( (xk + dk * t[:, None]).T ) <= f(xk) + sgm*d_phi_0*t)[0]\n",
    "    ix_max = np.max(dom)\n",
    "    lmbdk = ix_max * h * bar_lmbdk\n",
    "\n",
    "    # nuevo paso\n",
    "    xk1 = xk + lmbdk * dk\n",
    "    stop = lmbdk<eps\n",
    "    return xk1, stop"
   ]
  },
  {
   "cell_type": "markdown",
   "id": "f096b384",
   "metadata": {},
   "source": []
  },
  {
   "cell_type": "code",
   "execution_count": 244,
   "id": "f221de04",
   "metadata": {},
   "outputs": [],
   "source": [
    "class Zoutendijk(object):\n",
    "    \n",
    "    def __init__(self, fun: str, const: list):\n",
    "        self.fun = fun\n",
    "        self.const = const\n",
    "        \n",
    "        self.set_vars()\n",
    "        self.set_f()\n",
    "        self.set_A_b_E_e()\n",
    "    \n",
    "    def set_vars(self):\n",
    "        self.vars = set(re.findall(\"x\\d\", self.fun))\n",
    "        for c in self.const:\n",
    "            self.vars = self.vars.union(set(re.findall(\"x\\d\", c)))   \n",
    "        self.vars = sorted(list(self.vars))\n",
    "        self.dic_vars = {var: f\"x[{k}]\" for k, var in enumerate(self.vars)}\n",
    "    \n",
    "    def set_f(self):\n",
    "        self.rename_fun = self.fun\n",
    "        for k, v in self.dic_vars.items():\n",
    "            self.rename_fun = self.rename_fun.replace(k, v)\n",
    "        \n",
    "    def f(self, x):\n",
    "        return eval(self.rename_fun)\n",
    "    \n",
    "    def set_A_b_E_e(self):\n",
    "        n = len(self.dic_vars)\n",
    "        m = len(self.const)\n",
    "        m_A = sum(int(\"<\" in c or \">\" in c) for c in self.const)\n",
    "        m_E = m-m_A\n",
    "\n",
    "        self.A = None\n",
    "        self.E = None\n",
    "\n",
    "        self.b = None\n",
    "        self.e = None\n",
    "\n",
    "        if m_A:\n",
    "            self.A = np.zeros((m_A, n))\n",
    "            self.b = np.zeros(m_A)\n",
    "        if m_E:\n",
    "            self.E = np.zeros((m_E, n))\n",
    "            self.e = np.zeros(m_E)\n",
    "\n",
    "        i_A = 0\n",
    "        i_E = 0\n",
    "        for c in self.const:\n",
    "            if \"<\" in c or \">\" in c:\n",
    "                sgn = 1 if \"<\" in c else -1\n",
    "                left, right = c.split(\"<=\") if sgn>0 else c.split(\">=\")\n",
    "                self.b[i_A] = sgn*float(right.strip())\n",
    "\n",
    "                t_2 = \"\"\n",
    "                t_1 = \"\"\n",
    "                t = \"\"\n",
    "                for t1 in left.strip().split():\n",
    "                    if t1 in self.dic_vars.keys():\n",
    "                        v = self.dic_vars[t1]\n",
    "                        j = int(re.findall(\"\\d\", v)[0])\n",
    "\n",
    "                        if t_2 == t_1 == t == \"\":\n",
    "                            self.A[i_A, j] = sgn\n",
    "                        elif t_2 == t_1 == \"\" and t == \"-\":\n",
    "                            self.A[i_A, j] = sgn*(-1)\n",
    "                        elif t_2 in [\"\", \"+\"] and t == \"*\":\n",
    "                            self.A[i_A, j] = sgn*float(t_1)\n",
    "                        elif t_2 == \"-\" and t == \"*\":\n",
    "                            self.A[i_A, j] = sgn*float(t_1)*(-1)\n",
    "                        elif t_1 in self.dic_vars.keys() and t == \"+\":\n",
    "                            self.A[i_A, j] = sgn\n",
    "                        elif t_1 in self.dic_vars.keys() and t == \"-\":\n",
    "                            self.A[i_A, j] = sgn*(-1)\n",
    "                    t_2 = t_1\n",
    "                    t_1 = t\n",
    "                    t = t1\n",
    "                i_A+=1\n",
    "            else:\n",
    "                left, right = c.split(\"=\")\n",
    "                self.e[i_E] = float(right.strip())\n",
    "\n",
    "                t_2 = \"\"\n",
    "                t_1 = \"\"\n",
    "                t = \"\"\n",
    "                for t1 in left.strip().split():\n",
    "                    if t1 in self.dic_vars.keys():\n",
    "                        v = self.dic_vars[t1]\n",
    "                        j = int(re.findall(\"\\d\", v)[0])\n",
    "\n",
    "                        if t_2 == t_1 == t == \"\":\n",
    "                            self.E[i_E, j] = 1\n",
    "                        elif t_2 == t_1 == \"\" and t == \"-\":\n",
    "                            self.E[i_E, j] = -1\n",
    "                        elif t_2 in [\"\", \"+\"] and t == \"*\":\n",
    "                            self.E[i_E, j] = float(t_1)\n",
    "                        elif t_2 == \"-\" and t == \"*\":\n",
    "                            self.E[i_E, j] = float(t_1)*(-1)\n",
    "                        elif t_1 in self.dic_vars.keys() and t == \"+\":\n",
    "                            self.E[i_E, j] = 1\n",
    "                        elif t_1 in self.dic_vars.keys() and t == \"-\":\n",
    "                            self.E[i_E, j] = -1\n",
    "                    t_2 = t_1\n",
    "                    t_1 = t\n",
    "                    t = t1\n",
    "                i_E+=1\n",
    "                \n",
    "    def print_status(self, feasible, xk, f_xk, step=0, k=0):\n",
    "        print(f\"(step={step}, k={k}) Factible: {feasible}\")\n",
    "        print(f\"(step={step}, k={k}) xk: {xk}\")\n",
    "        print(f\"(step={step}, k={k}) f(xk): {f_xk}\\n\")\n",
    "                \n",
    "    def solve(self, x0, eps=1e-6, N=10*6, sgm=0.5, verbose=True):\n",
    "        # Step 0: Inicializar\n",
    "        k = 0\n",
    "        xk = x0\n",
    "        grad = nd.Gradient(self.f)\n",
    "        ## Step 0: Check factibilidad\n",
    "        feasible = step0(xk, self.A, self.b, self.E, self.e)\n",
    "        stop = not feasible\n",
    "        ## Step 0: Imprimir estado\n",
    "        f_xk = self.f(xk)\n",
    "        if verbose:\n",
    "            self.print_status(feasible, xk, f_xk, step=0, k=k)\n",
    "        list_xk = [xk]\n",
    "        list_f_xk = [f_xk]    \n",
    "        while not stop:\n",
    "            # Step 1: Descomposicion [A1, A2]\n",
    "            A1, A2, b1, b2 = step1(xk, self.A, self.b)\n",
    "            # Step 2: Resolver problema lineal (Dk)\n",
    "            obj = grad(xk)\n",
    "            dk, stop_grad = step2(obj, A1, self.E, eps)\n",
    "            stop = stop_grad\n",
    "            if not stop:\n",
    "                # Step 3: Resolver problema (L)\n",
    "                xk1, stop_lambda = step3(self.f, xk, dk, A2, b2, eps, N=N, sgm=sgm)\n",
    "                xk = xk1\n",
    "                feasible = step0(xk, self.A, self.b, self.E, self.e)\n",
    "                stop = (not feasible) or stop_lambda\n",
    "                ## Step 3: Imprimir estado\n",
    "                f_xk = self.f(xk)\n",
    "                if verbose:\n",
    "                    self.print_status(feasible, xk, f_xk, step=3, k=k)\n",
    "                k+=1\n",
    "                list_xk.append(xk)\n",
    "                list_f_xk.append(f_xk)"
   ]
  },
  {
   "cell_type": "markdown",
   "id": "57f5c6ed",
   "metadata": {},
   "source": []
  },
  {
   "cell_type": "code",
   "execution_count": 245,
   "id": "b706d540",
   "metadata": {},
   "outputs": [
    {
     "name": "stdout",
     "output_type": "stream",
     "text": [
      "(step=0, k=0) Factible: True\n",
      "(step=0, k=0) xk: [0, 2]\n",
      "(step=0, k=0) f(xk): 288\n",
      "\n",
      "(step=3, k=0) Factible: True\n",
      "(step=3, k=0) xk: [2. 3.]\n",
      "(step=3, k=0) f(xk): 129.0\n",
      "\n",
      "(step=3, k=1) Factible: True\n",
      "(step=3, k=1) xk: [4. 0.]\n",
      "(step=3, k=1) f(xk): 48.000000000000014\n",
      "\n",
      "(step=3, k=2) Factible: True\n",
      "(step=3, k=2) xk: [3.86516854 0.20224719]\n",
      "(step=3, k=2) f(xk): 46.90531853970598\n",
      "\n",
      "(step=3, k=3) Factible: True\n",
      "(step=3, k=3) xk: [3.86516854 0.20224719]\n",
      "(step=3, k=3) f(xk): 46.90531853970598\n",
      "\n"
     ]
    }
   ],
   "source": [
    "method1 = Zoutendijk(\n",
    "    fun=\"8 * ( x1 - 6 ) ** 2 + ( x2 - 2 ) ** 4\", \n",
    "    const=[\n",
    "        \"- x1 + 2 * x2 <= 4\",\n",
    "        \"3 * x1 + 2 * x2 <= 12\",\n",
    "        \"x1 >= 0\",\n",
    "        \"x2 >= 0\"\n",
    "    ]\n",
    ")\n",
    "\n",
    "method1.solve(\n",
    "    x0=[0, 2], \n",
    "    eps=1e-6, \n",
    "    N=10*9, \n",
    "    sgm=0.5, \n",
    "    verbose=True\n",
    ")"
   ]
  },
  {
   "cell_type": "code",
   "execution_count": 246,
   "id": "5eb1e6cb",
   "metadata": {},
   "outputs": [
    {
     "name": "stdout",
     "output_type": "stream",
     "text": [
      "(step=0, k=0) Factible: True\n",
      "(step=0, k=0) xk: [2, 2, 3, 2]\n",
      "(step=0, k=0) f(xk): 92\n",
      "\n",
      "(step=3, k=0) Factible: True\n",
      "(step=3, k=0) xk: [0.92134831 0.92134831 0.84269663 3.07865169]\n",
      "(step=3, k=0) f(xk): 16.322099237736822\n",
      "\n",
      "(step=3, k=1) Factible: True\n",
      "(step=3, k=1) xk: [0.57574801 0.57574801 0.15149602 3.42425199]\n",
      "(step=3, k=1) f(xk): 13.080935697957145\n",
      "\n",
      "(step=3, k=2) Factible: True\n",
      "(step=3, k=2) xk: [0.53234185 0.53234185 0.0646837  3.46765815]\n",
      "(step=3, k=2) f(xk): 13.046778123625602\n",
      "\n",
      "(step=3, k=3) Factible: True\n",
      "(step=3, k=3) xk: [0.53125167 0.53125167 0.06250335 3.46874833]\n",
      "(step=3, k=3) f(xk): 13.046753890147809\n",
      "\n",
      "(step=3, k=4) Factible: True\n",
      "(step=3, k=4) xk: [0.53125167 0.53125167 0.06250335 3.46874833]\n",
      "(step=3, k=4) f(xk): 13.046753890147809\n",
      "\n"
     ]
    }
   ],
   "source": [
    "method2 = Zoutendijk(\n",
    "    fun=\"x1 ** 4 - 2 * x2 ** 2 + 10 * x1 * ( x2 ** 2 ) + x4 ** 2\", \n",
    "    const=[\n",
    "        \"x1 + x2 - x3 = 1\",\n",
    "        \"x1 + x4 = 4\",\n",
    "        \"x1 - x2 = 0\",\n",
    "        \"x1 >= 0\",\n",
    "        \"x2 >= 0\",\n",
    "        \"x3 >= 0\",\n",
    "        \"x4 >= 0\"\n",
    "    ]\n",
    ")\n",
    "method2.solve(\n",
    "    x0=[2, 2, 3, 2], \n",
    "    eps=1e-6, \n",
    "    N=10*9, \n",
    "    sgm=0.5, \n",
    "    verbose=True\n",
    ")"
   ]
  }
 ],
 "metadata": {
  "kernelspec": {
   "display_name": "Python 3 (ipykernel)",
   "language": "python",
   "name": "python3"
  },
  "language_info": {
   "codemirror_mode": {
    "name": "ipython",
    "version": 3
   },
   "file_extension": ".py",
   "mimetype": "text/x-python",
   "name": "python",
   "nbconvert_exporter": "python",
   "pygments_lexer": "ipython3",
   "version": "3.8.5"
  }
 },
 "nbformat": 4,
 "nbformat_minor": 5
}
