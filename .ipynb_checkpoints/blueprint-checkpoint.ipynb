{
 "cells": [
  {
   "cell_type": "markdown",
   "id": "b84a9743",
   "metadata": {},
   "source": [
    "# MA5701 Optimización no lineal: Tarea 3\n",
    "**Fecha de entrega:** 4 de Julio a las 23:59 hrs.\n",
    "\n",
    "**Profesor:** Jorge G. Amaya A. \n",
    "\n",
    "**Auxiliar:** Aldo Gutiérrez Concha. \n",
    "\n",
    "**Ayudantes:** Carolina Chiu y Mariano Vazquez.\n",
    "\n",
    "**Autor:** Felipe Urrutia Vargas"
   ]
  },
  {
   "cell_type": "code",
   "execution_count": 2,
   "id": "c0405c4d",
   "metadata": {},
   "outputs": [
    {
     "name": "stdout",
     "output_type": "stream",
     "text": [
      "Requirement already satisfied: numdifftools in c:\\users\\felip\\anaconda3\\lib\\site-packages (0.9.40)\n",
      "Requirement already satisfied: scipy>=0.8 in c:\\users\\felip\\anaconda3\\lib\\site-packages (from numdifftools) (1.7.3)\n",
      "Requirement already satisfied: algopy>=0.4 in c:\\users\\felip\\anaconda3\\lib\\site-packages (from numdifftools) (0.5.7)\n",
      "Requirement already satisfied: statsmodels>=0.6 in c:\\users\\felip\\anaconda3\\lib\\site-packages (from numdifftools) (0.13.0)\n",
      "Requirement already satisfied: numpy>=1.9 in c:\\users\\felip\\anaconda3\\lib\\site-packages (from numdifftools) (1.21.5)\n",
      "Requirement already satisfied: pandas>=0.25 in c:\\users\\felip\\anaconda3\\lib\\site-packages (from statsmodels>=0.6->numdifftools) (1.4.1)\n",
      "Requirement already satisfied: patsy>=0.5.2 in c:\\users\\felip\\anaconda3\\lib\\site-packages (from statsmodels>=0.6->numdifftools) (0.5.2)\n",
      "Requirement already satisfied: pytz>=2020.1 in c:\\users\\felip\\anaconda3\\lib\\site-packages (from pandas>=0.25->statsmodels>=0.6->numdifftools) (2021.3)\n",
      "Requirement already satisfied: python-dateutil>=2.8.1 in c:\\users\\felip\\anaconda3\\lib\\site-packages (from pandas>=0.25->statsmodels>=0.6->numdifftools) (2.8.2)\n",
      "Requirement already satisfied: six in c:\\users\\felip\\anaconda3\\lib\\site-packages (from patsy>=0.5.2->statsmodels>=0.6->numdifftools) (1.16.0)\n"
     ]
    },
    {
     "name": "stderr",
     "output_type": "stream",
     "text": [
      "WARNING: Error parsing requirements for torch: [Errno 2] No such file or directory: 'c:\\\\users\\\\felip\\\\anaconda3\\\\lib\\\\site-packages\\\\torch-1.11.0.dist-info\\\\METADATA'\n"
     ]
    }
   ],
   "source": [
    "!pip install numdifftools"
   ]
  },
  {
   "cell_type": "code",
   "execution_count": 3,
   "id": "c9433f28",
   "metadata": {},
   "outputs": [],
   "source": [
    "import numpy as np\n",
    "import numdifftools as nd"
   ]
  },
  {
   "cell_type": "code",
   "execution_count": 196,
   "id": "367613a1",
   "metadata": {},
   "outputs": [],
   "source": [
    "def f(x):\n",
    "    return 8 * ((x[0] - 6)**2) + (x[1] - 2)**4"
   ]
  },
  {
   "cell_type": "code",
   "execution_count": 197,
   "id": "39d3fe57",
   "metadata": {},
   "outputs": [
    {
     "name": "stdout",
     "output_type": "stream",
     "text": [
      "[-96.   0.]\n"
     ]
    }
   ],
   "source": [
    "grad = nd.Gradient(f)\n",
    "print(grad([0, 2]))"
   ]
  },
  {
   "cell_type": "code",
   "execution_count": 199,
   "id": "c7bb30a8",
   "metadata": {},
   "outputs": [],
   "source": [
    "A = np.array([\n",
    "    [-1, 2],\n",
    "    [3, 2],\n",
    "    [-1, 0],\n",
    "    [0, -1]\n",
    "])\n",
    "b = np.array([4, 12, 0, 0])\n",
    "\n",
    "E = None\n",
    "e = None"
   ]
  },
  {
   "cell_type": "markdown",
   "id": "ad1836f1",
   "metadata": {},
   "source": [
    "## I. Escriba un código computacional que haga operacional el método de direcciones admisibles (Zoutendijk)\n",
    "\n",
    "Resolver el problema de optimización no lineal:\n",
    "$$(P) \\quad \\begin{cases} \\min &f (x) \\\\\n",
    "s.a. &Ax \\leq b \\\\\n",
    "&Ex = e\n",
    "\\end{cases}$$"
   ]
  },
  {
   "cell_type": "markdown",
   "id": "c776ffc6",
   "metadata": {},
   "source": [
    "### Pseudo-algoritmo"
   ]
  },
  {
   "cell_type": "markdown",
   "id": "db83bec1",
   "metadata": {},
   "source": [
    "(0) Sean $\\epsilon>0$, $k = 0$, $x_0 \\in \\mathbb{R}^n$ tal que $Ax_0 \\leq  b$, $Ex_0=e$ "
   ]
  },
  {
   "cell_type": "code",
   "execution_count": 201,
   "id": "e6fe8b35",
   "metadata": {},
   "outputs": [
    {
     "name": "stdout",
     "output_type": "stream",
     "text": [
      "(0, k=0) Factible: True\n",
      "f(xk): 288\n"
     ]
    }
   ],
   "source": [
    "eps= 1e-2\n",
    "x0 = [0, 2]\n",
    "k = 0\n",
    "xk = x0\n",
    "# check factibilidad\n",
    "feasible = np.all(A@xk <= b)\n",
    "print(f\"(0, k={k}) Factible: {feasible}\")\n",
    "print(f\"f(xk): {f(xk)}\")"
   ]
  },
  {
   "cell_type": "markdown",
   "id": "e606e60c",
   "metadata": {},
   "source": [
    "(1) Sea la descomposición $A = [A_1,A_2]^T, b =(b_1, b_2)^T$ tal que $A_1x_k = b_1, A_2x_k < b_2$."
   ]
  },
  {
   "cell_type": "code",
   "execution_count": 202,
   "id": "dc84c1f3",
   "metadata": {},
   "outputs": [
    {
     "name": "stdout",
     "output_type": "stream",
     "text": [
      "A1:\n",
      "[[-1  2]\n",
      " [-1  0]],\n",
      "b1:[4 0]\n",
      "A2:\n",
      "[[ 3  2]\n",
      " [ 0 -1]],\n",
      "b1:[12  0]\n"
     ]
    }
   ],
   "source": [
    "# Step 1\n",
    "index_A1 = np.isclose(A@xk, b)\n",
    "index_A2 = ~index_A1\n",
    "\n",
    "A1 = A[index_A1]\n",
    "A2 = A[index_A2]\n",
    "\n",
    "b1 = b[index_A1]\n",
    "b2 = b[index_A2]\n",
    "\n",
    "print(f\"A1:\\n{A1},\\nb1:{b1}\")\n",
    "print(f\"A2:\\n{A2},\\nb1:{b2}\")"
   ]
  },
  {
   "cell_type": "markdown",
   "id": "4a7d8de8",
   "metadata": {},
   "source": [
    "(2) Resolver el problema lineal\n",
    "\n",
    "$$(D_k) \\quad \\begin{cases} \\min &\\nabla f (x_k)^T d\\\\\n",
    "s.a. &A_1d \\leq 0 \\\\\n",
    "&Ed = 0\\\\\n",
    "&−1 \\leq d_j \\leq 1, \\quad j = 1, . . . , n\n",
    "\\end{cases}$$\n",
    "y sea $d_k$ solución de $(D_k)$.\n",
    "\n",
    "Si $|| \\nabla f (x_k)^T d_k || < \\epsilon$, entonces parar.\n",
    "\n",
    "Si no, ir a (3)."
   ]
  },
  {
   "cell_type": "code",
   "execution_count": 43,
   "id": "55656ba4",
   "metadata": {},
   "outputs": [],
   "source": [
    "from scipy.optimize import linprog"
   ]
  },
  {
   "cell_type": "code",
   "execution_count": 206,
   "id": "489b4ff0",
   "metadata": {},
   "outputs": [
    {
     "name": "stdout",
     "output_type": "stream",
     "text": [
      "∇𝑓(𝑥𝑘): [-96.   0.]\n",
      "dk: [1.  0.5]\n"
     ]
    }
   ],
   "source": [
    "# Step 2\n",
    "\n",
    "obj = grad([0, 2])\n",
    "print(f\"∇𝑓(𝑥𝑘): {obj}\")\n",
    "\n",
    "lhs_ineq = A1\n",
    "\n",
    "rhs_ineq = np.zeros(A1.shape[0]) if str(A1) != \"None\" else None\n",
    "\n",
    "lhs_eq = E\n",
    "rhs_eq = np.zeros(E.shape[0]) if str(E) != \"None\" else None\n",
    "\n",
    "bnd = [(-1, 1) for _ in range(obj.shape[0])] \n",
    "\n",
    "opt = linprog(c=obj, A_ub=lhs_ineq, b_ub=rhs_ineq,\n",
    "              A_eq=lhs_eq, b_eq=rhs_eq, bounds=bnd,\n",
    "              method=\"simplex\")\n",
    "dk = opt.x\n",
    "print(f\"dk: {dk}\")"
   ]
  },
  {
   "cell_type": "markdown",
   "id": "25487735",
   "metadata": {},
   "source": [
    "(3) Determinar el paso, resolviendo aproximadamente el problema de minimización unidimensional\n",
    "\n",
    "$$(L) \\quad \\begin{cases} \\min &f (x_k + \\lambda d_k)\\\\\n",
    "s.a. &\\lambda \\in [0, \\bar{\\lambda_k}]\n",
    "\\end{cases}$$\n",
    "\n",
    "mediante el método de Armijo.\n",
    "\n",
    "Se usa \n",
    "\n",
    "$$ \\bar{\\lambda_k} = \\min \\left\\lbrace \\frac{(b_2 − A_2 x_k)_i}{(A_2 d_k)_i} : (A_2 d_k)_i > 0 \\right\\rbrace$$\n",
    "y se considera $\\bar{\\lambda_k} = +\\infty$ cuando $(A_2 d_k)_i \\leq 0 \\forall i$.\n",
    "\n",
    "Sea $\\lambda_k$ la solución del subproblema $(L)$. Hacer:\n",
    "\n",
    "$$x_k+1 = x_k + \\lambda_k d_k,$$\n",
    "$$k ← k + 1,$$\n",
    "$$\\text{e ir a $(1)$.}$$"
   ]
  },
  {
   "cell_type": "markdown",
   "id": "e07d07a4",
   "metadata": {},
   "source": [
    "## II. El paso de Armijo debe programarlo usted como una rutina que será llamada en cada iteración del algoritmo de Zoutendijk"
   ]
  },
  {
   "cell_type": "code",
   "execution_count": 207,
   "id": "62bbae74",
   "metadata": {},
   "outputs": [
    {
     "name": "stdout",
     "output_type": "stream",
     "text": [
      "bar 𝜆𝑘: 2.0\n",
      "𝜆𝑘: 2.0\n",
      "xk+1: [2. 3.]\n",
      "f(xk+1): 129.0\n"
     ]
    }
   ],
   "source": [
    "# Step 3\n",
    "# lambda maximo\n",
    "dom = A2@dk>0\n",
    "bar_lmbdk = np.min(((b2-A2@xk)/(A2@dk))[dom]) if len(dom) != 0 else float(\"inf\")\n",
    "print(f\"bar 𝜆𝑘: {bar_lmbdk}\")\n",
    "\n",
    "# paso de armijo\n",
    "N = 10*6\n",
    "t = np.linspace(0, bar_lmbdk, N)\n",
    "h = 1/(N-1)\n",
    "sgm=0.8\n",
    "\n",
    "d_phi_0 = nd.Gradient(lambda t: f( xk + dk*t ))([0])\n",
    "\n",
    "dom = np.where(f( (xk + dk * t[:, None]).T ) <= f(xk) + sgm*d_phi_0*t)[0]\n",
    "ix_max = np.max(dom)\n",
    "lmbdk = ix_max * h * bar_lmbdk\n",
    "print(f\"𝜆𝑘: {lmbdk}\")\n",
    "\n",
    "# nuevo paso\n",
    "xk1 = xk + lmbdk * dk\n",
    "print(f\"xk+1: {xk1}\") \n",
    "print(f\"f(xk+1): {f(xk1)}\")"
   ]
  },
  {
   "cell_type": "markdown",
   "id": "73d8bc8f",
   "metadata": {},
   "source": [
    "https://www.wolframalpha.com/input?i=minimize+8%28x+%E2%88%92+6%29%5E2+%2B+%28y+%E2%88%92+2%29%5E4+subject+to+%E2%88%92x+%2B+2y+%3C%3D+4%2C++3x+%2B+2y+%3C%3D+12%2C+x+%3E%3D+0%2C+y+%3E%3D0"
   ]
  },
  {
   "cell_type": "markdown",
   "id": "a5e8aef3",
   "metadata": {},
   "source": []
  },
  {
   "cell_type": "code",
   "execution_count": 261,
   "id": "5daa5a83",
   "metadata": {},
   "outputs": [
    {
     "name": "stdout",
     "output_type": "stream",
     "text": [
      "(0, k=0) Factible: True\n",
      "(0, k=0) xk: [2, 2, 3, 2]\n",
      "(0, k=0) f(xk): 92\n",
      "\n",
      "(2, k=0) obj: [72. 72.  0.  4.]\n",
      "(2, k=0) dk: [-0.5 -0.5 -1.   0.5]\n",
      "(3, k=0) bar_lmbdk: 3.0\n",
      "(3, k=0) lmbdk: 2.135593220338983\n",
      "(3, k=1) Factible: True\n",
      "(3, k=1) xk: [0.93220339 0.93220339 0.86440678 3.06779661]\n",
      "(3, k=1) f(xk): 16.529413128815754\n",
      "\n",
      "(2, k=1) obj: [11.93038237 13.65124964  0.          6.13559322]\n",
      "(2, k=1) dk: [-0.5 -0.5 -1.   0.5]\n",
      "(3, k=1) bar_lmbdk: 0.8644067796610169\n",
      "(3, k=1) lmbdk: 0.7032461936225223\n",
      "(3, k=2) Factible: True\n",
      "(3, k=2) xk: [0.58058029 0.58058029 0.16116059 3.41941971]\n",
      "(3, k=2) f(xk): 13.08888488623956\n",
      "\n",
      "(2, k=2) obj: [4.15352764 4.41914836 0.         6.83883941]\n",
      "(2, k=2) dk: [-0.5 -0.5 -1.   0.5]\n",
      "(3, k=2) bar_lmbdk: 0.1611605860384946\n",
      "(3, k=2) lmbdk: 0.09560373748046289\n",
      "(3, k=3) Factible: True\n",
      "(3, k=3) xk: [0.53277842 0.53277842 0.06555685 3.46722158]\n",
      "(3, k=3) f(xk): 13.046798934673316\n",
      "\n",
      "(2, k=3) obj: [3.44345119 3.54594329 0.         6.93444315]\n",
      "(2, k=3) dk: [-0.5 -0.5 -1.   0.5]\n",
      "(3, k=3) bar_lmbdk: 0.0655568485580317\n",
      "(3, k=3) lmbdk: 0.0022222660528146343\n",
      "(3, k=4) Factible: True\n",
      "(3, k=4) xk: [0.53166729 0.53166729 0.06333458 3.46833271]\n",
      "(3, k=4) f(xk): 13.046758461190356\n",
      "\n",
      "(2, k=4) obj: [3.42784689 3.52673301 0.         6.93666542]\n",
      "(2, k=4) dk: [-0.5 -0.5 -1.   0.5]\n",
      "(3, k=4) bar_lmbdk: 0.06333458250521708\n",
      "(3, k=4) lmbdk: 0.001073467500088425\n",
      "(3, k=5) Factible: True\n",
      "(3, k=5) xk: [0.53113056 0.53113056 0.06226112 3.46886944]\n",
      "(3, k=5) f(xk): 13.046753639452842\n",
      "\n",
      "(2, k=5) obj: [3.42032371 3.51747115 0.         6.93773888]\n",
      "(2, k=5) dk: [-0.5 -0.5 -1.   0.5]\n",
      "(3, k=5) bar_lmbdk: 0.06226111500512865\n",
      "(3, k=5) lmbdk: 0.0\n",
      "(3, k=6) Factible: True\n",
      "(3, k=6) xk: [0.53113056 0.53113056 0.06226112 3.46886944]\n",
      "(3, k=6) f(xk): 13.046753639452842\n",
      "\n"
     ]
    }
   ],
   "source": [
    "# def f(x):\n",
    "#     return 8 * ((x[0] - 6)**2) + (x[1] - 2)**4\n",
    "# A = np.array([\n",
    "#     [-1, 2],\n",
    "#     [3, 2],\n",
    "#     [-1, 0],\n",
    "#     [0, -1]\n",
    "# ])\n",
    "# b = np.array([4, 12, 0, 0])\n",
    "\n",
    "# E = None\n",
    "# e = None\n",
    "\n",
    "def f(x):\n",
    "    return x[0]**4 - 2 * (x[1]**2) + 10 * x[0] * (x[1]**2) + x[3]**2\n",
    "\n",
    "A = -np.eye(4)\n",
    "b = np.zeros(4)\n",
    "\n",
    "E = np.array([\n",
    "    [1, 1, -1, 0],\n",
    "    [1, 0, 0, 1],\n",
    "    [1, -1, 0, 0],\n",
    "])\n",
    "e = np.array([1, 4, 0])\n",
    "\n",
    "grad = nd.Gradient(f)\n",
    "\n",
    "# step 0\n",
    "eps= 1e-6\n",
    "# x0 = [0, 2]\n",
    "x0 = [2, 2, 3, 2]\n",
    "k = 0\n",
    "xk = x0\n",
    "# check factibilidad\n",
    "feasible = np.all(A@xk <= b)\n",
    "print(f\"(0, k={k}) Factible: {feasible}\")\n",
    "print(f\"(0, k={k}) xk: {xk}\")\n",
    "print(f\"(0, k={k}) f(xk): {f(xk)}\\n\")\n",
    "\n",
    "stop = False\n",
    "while not stop:\n",
    "    # Step 1\n",
    "    index_A1 = np.isclose(A@xk, b)\n",
    "    index_A2 = ~index_A1\n",
    "\n",
    "    A1 = A[index_A1]\n",
    "    A2 = A[index_A2]\n",
    "\n",
    "    b1 = b[index_A1]\n",
    "    b2 = b[index_A2]\n",
    "    \n",
    "    # Step 2\n",
    "    obj = grad(xk)\n",
    "    print(f\"(2, k={k}) obj: {obj}\")\n",
    "\n",
    "    lhs_ineq = A1\n",
    "    rhs_ineq = np.zeros(A1.shape[0]) if str(A1) != \"None\" else None\n",
    "\n",
    "    lhs_eq = E\n",
    "    rhs_eq = np.zeros(E.shape[0]) if str(E) != \"None\" else None\n",
    "\n",
    "    bnd = [(-1, 1) for _ in range(obj.shape[0])] \n",
    "\n",
    "    opt = linprog(c=obj, A_ub=lhs_ineq, b_ub=rhs_ineq,\n",
    "                  A_eq=lhs_eq, b_eq=rhs_eq, bounds=bnd,\n",
    "                  method=\"revised simplex\")\n",
    "    dk = opt.x\n",
    "    print(f\"(2, k={k}) dk: {dk}\")\n",
    "    \n",
    "    stop = abs(np.dot(obj, dk))<eps\n",
    "    \n",
    "    if not stop:\n",
    "        # Step 3\n",
    "        # lambda maximo\n",
    "        dom = A2@dk>0\n",
    "        bar_lmbdk = np.min(((b2-A2@xk)/(A2@dk))[dom]) if len(dom) != 0 else float(\"inf\")\n",
    "        print(f\"(3, k={k}) bar_lmbdk: {bar_lmbdk}\")\n",
    "\n",
    "        # paso de armijo\n",
    "        N = 10*6\n",
    "        t = np.linspace(0, np.min([bar_lmbdk, 10*6]), N)\n",
    "        h = 1/(N-1)\n",
    "        sgm=0.5\n",
    "\n",
    "        d_phi_0 = nd.Gradient(lambda t: f( xk + dk*t ))([0])\n",
    "\n",
    "        dom = np.where(f( (xk + dk * t[:, None]).T ) <= f(xk) + sgm*d_phi_0*t)[0]\n",
    "        ix_max = np.max(dom)\n",
    "        lmbdk = ix_max * h * bar_lmbdk\n",
    "        print(f\"(3, k={k}) lmbdk: {lmbdk}\")\n",
    "        \n",
    "        stop = lmbdk<eps\n",
    "        # nuevo paso\n",
    "        xk1 = xk + lmbdk * dk\n",
    "        k+=1\n",
    "        xk = xk1\n",
    "\n",
    "        feasible = np.all(A@xk <= b)\n",
    "        print(f\"(3, k={k}) Factible: {feasible}\")\n",
    "        print(f\"(3, k={k}) xk: {xk}\")\n",
    "        print(f\"(3, k={k}) f(xk): {f(xk)}\\n\")"
   ]
  },
  {
   "cell_type": "markdown",
   "id": "808e469b",
   "metadata": {},
   "source": [
    "https://www.wolframalpha.com/input?i=minimize+x%5E4+-+2*y%5E2%2B10*x*y%5E2%2Bw%5E2%2B0.0000001*z+subject+to+x+%2B+y-+z%3D+1%2C+x%2B+w%3D+4%2C+x-+y%3D+0%2C+x%3E%3D0%2C+y%3E%3D0%2C+z%3E%3D0%2C+w%3E%3D0"
   ]
  }
 ],
 "metadata": {
  "kernelspec": {
   "display_name": "Python 3 (ipykernel)",
   "language": "python",
   "name": "python3"
  },
  "language_info": {
   "codemirror_mode": {
    "name": "ipython",
    "version": 3
   },
   "file_extension": ".py",
   "mimetype": "text/x-python",
   "name": "python",
   "nbconvert_exporter": "python",
   "pygments_lexer": "ipython3",
   "version": "3.8.5"
  }
 },
 "nbformat": 4,
 "nbformat_minor": 5
}
