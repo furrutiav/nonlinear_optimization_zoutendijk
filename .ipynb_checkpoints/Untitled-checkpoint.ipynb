{
 "cells": [
  {
   "cell_type": "markdown",
   "id": "3abb5b90",
   "metadata": {},
   "source": [
    "# MA5701 Optimización no lineal: Tarea 2\n",
    "**Fecha de entrega:** 4 de Julio a las 23:59 hrs.\n",
    "\n",
    "**Profesor:** Jorge G. Amaya A. \n",
    "\n",
    "**Auxiliar:** Aldo Gutiérrez Concha. \n",
    "\n",
    "**Ayudantes:** Carolina Chiu y Mariano Vazquez.\n",
    "\n",
    "**Autor:** Felipe Urrutia Vargas"
   ]
  },
  {
   "cell_type": "code",
   "execution_count": 2,
   "id": "4a17ddfa",
   "metadata": {},
   "outputs": [
    {
     "name": "stdout",
     "output_type": "stream",
     "text": [
      "Requirement already satisfied: numdifftools in c:\\users\\felip\\anaconda3\\lib\\site-packages (0.9.40)\n",
      "Requirement already satisfied: scipy>=0.8 in c:\\users\\felip\\anaconda3\\lib\\site-packages (from numdifftools) (1.7.3)\n",
      "Requirement already satisfied: algopy>=0.4 in c:\\users\\felip\\anaconda3\\lib\\site-packages (from numdifftools) (0.5.7)\n",
      "Requirement already satisfied: statsmodels>=0.6 in c:\\users\\felip\\anaconda3\\lib\\site-packages (from numdifftools) (0.13.0)\n",
      "Requirement already satisfied: numpy>=1.9 in c:\\users\\felip\\anaconda3\\lib\\site-packages (from numdifftools) (1.21.5)\n",
      "Requirement already satisfied: pandas>=0.25 in c:\\users\\felip\\anaconda3\\lib\\site-packages (from statsmodels>=0.6->numdifftools) (1.4.1)\n",
      "Requirement already satisfied: patsy>=0.5.2 in c:\\users\\felip\\anaconda3\\lib\\site-packages (from statsmodels>=0.6->numdifftools) (0.5.2)\n",
      "Requirement already satisfied: pytz>=2020.1 in c:\\users\\felip\\anaconda3\\lib\\site-packages (from pandas>=0.25->statsmodels>=0.6->numdifftools) (2021.3)\n",
      "Requirement already satisfied: python-dateutil>=2.8.1 in c:\\users\\felip\\anaconda3\\lib\\site-packages (from pandas>=0.25->statsmodels>=0.6->numdifftools) (2.8.2)\n",
      "Requirement already satisfied: six in c:\\users\\felip\\anaconda3\\lib\\site-packages (from patsy>=0.5.2->statsmodels>=0.6->numdifftools) (1.16.0)\n"
     ]
    },
    {
     "name": "stderr",
     "output_type": "stream",
     "text": [
      "WARNING: Error parsing requirements for torch: [Errno 2] No such file or directory: 'c:\\\\users\\\\felip\\\\anaconda3\\\\lib\\\\site-packages\\\\torch-1.11.0.dist-info\\\\METADATA'\n"
     ]
    }
   ],
   "source": [
    "!pip install numdifftools"
   ]
  },
  {
   "cell_type": "code",
   "execution_count": 3,
   "id": "b6857d9f",
   "metadata": {},
   "outputs": [],
   "source": [
    "import numpy as np\n",
    "import numdifftools as nd"
   ]
  },
  {
   "cell_type": "code",
   "execution_count": 4,
   "id": "175945be",
   "metadata": {},
   "outputs": [],
   "source": [
    "def f1(x):\n",
    "    return 8 * ((x[0] - 6)**2) + (x[1] - 2)**4"
   ]
  },
  {
   "cell_type": "code",
   "execution_count": 5,
   "id": "65016118",
   "metadata": {},
   "outputs": [
    {
     "name": "stdout",
     "output_type": "stream",
     "text": [
      "[-96.   0.]\n"
     ]
    }
   ],
   "source": [
    "grad = nd.Gradient(f1)([0, 2])\n",
    "print(grad)"
   ]
  }
 ],
 "metadata": {
  "kernelspec": {
   "display_name": "Python 3 (ipykernel)",
   "language": "python",
   "name": "python3"
  },
  "language_info": {
   "codemirror_mode": {
    "name": "ipython",
    "version": 3
   },
   "file_extension": ".py",
   "mimetype": "text/x-python",
   "name": "python",
   "nbconvert_exporter": "python",
   "pygments_lexer": "ipython3",
   "version": "3.8.5"
  }
 },
 "nbformat": 4,
 "nbformat_minor": 5
}
